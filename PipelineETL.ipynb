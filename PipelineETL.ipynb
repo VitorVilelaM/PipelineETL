{
  "nbformat": 4,
  "nbformat_minor": 0,
  "metadata": {
    "colab": {
      "provenance": [],
      "mount_file_id": "1Ol9RV9Q0H83mAzK4yNbUIhntBp7v8nHp",
      "authorship_tag": "ABX9TyMwOpfmBYXkFnsjZTI5uDs6",
      "include_colab_link": true
    },
    "kernelspec": {
      "name": "python3",
      "display_name": "Python 3"
    },
    "language_info": {
      "name": "python"
    }
  },
  "cells": [
    {
      "cell_type": "markdown",
      "metadata": {
        "id": "view-in-github",
        "colab_type": "text"
      },
      "source": [
        "<a href=\"https://colab.research.google.com/github/VitorVilelaM/PipelineETL/blob/main/PipelineETL.ipynb\" target=\"_parent\"><img src=\"https://colab.research.google.com/assets/colab-badge.svg\" alt=\"Open In Colab\"/></a>"
      ]
    },
    {
      "cell_type": "markdown",
      "source": [
        "# Extract"
      ],
      "metadata": {
        "id": "LW8Cd0xmYDM9"
      }
    },
    {
      "cell_type": "code",
      "execution_count": 38,
      "metadata": {
        "id": "OA0D_bCQUFMg"
      },
      "outputs": [],
      "source": [
        "import pandas as pd\n",
        "data = pd.read_csv('santander.csv')\n",
        "prices = data['Close']\n",
        "buy = data['Buy']"
      ]
    },
    {
      "cell_type": "markdown",
      "source": [
        "# Transform\n"
      ],
      "metadata": {
        "id": "sWiRy81jYKXl"
      }
    },
    {
      "cell_type": "code",
      "source": [
        "def buy_action(today, yesterday):\n",
        "  if(today < yesterday):\n",
        "    return \"Yes\"\n",
        "  elif(today > yesterday):\n",
        "    return \"Not\"\n",
        "  else:\n",
        "    return \"...\"\n",
        "\n",
        "yesterday = 0\n",
        "position = 0\n",
        "for price in prices:\n",
        "  buy[position] = buy_action(price, yesterday)\n",
        "  position = position + 1\n",
        "  yesterday = price"
      ],
      "metadata": {
        "id": "7VbHncwLYNYl"
      },
      "execution_count": null,
      "outputs": []
    },
    {
      "cell_type": "markdown",
      "source": [
        "# Load"
      ],
      "metadata": {
        "id": "eV5qWVkwYNts"
      }
    },
    {
      "cell_type": "code",
      "source": [
        "data['Buy'] = buy\n",
        "data.to_csv('./santander2.csv', sep=',', mode = 'a', index=False)"
      ],
      "metadata": {
        "id": "cVVmOEfaYVDF"
      },
      "execution_count": 37,
      "outputs": []
    }
  ]
}